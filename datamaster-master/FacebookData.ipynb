{
 "cells": [
  {
   "cell_type": "code",
   "execution_count": 1,
   "metadata": {},
   "outputs": [
    {
     "name": "stdout",
     "output_type": "stream",
     "text": [
      "Requirement already satisfied: facebookads in c:\\programdata\\anaconda3\\lib\\site-packages\n",
      "Requirement already satisfied: requests>=2.3.0 in c:\\programdata\\anaconda3\\lib\\site-packages (from facebookads)\n",
      "Requirement already satisfied: six>=1.7.3 in c:\\programdata\\anaconda3\\lib\\site-packages (from facebookads)\n",
      "Requirement already satisfied: chardet<3.1.0,>=3.0.2 in c:\\programdata\\anaconda3\\lib\\site-packages (from requests>=2.3.0->facebookads)\n",
      "Requirement already satisfied: idna<2.7,>=2.5 in c:\\programdata\\anaconda3\\lib\\site-packages (from requests>=2.3.0->facebookads)\n",
      "Requirement already satisfied: urllib3<1.23,>=1.21.1 in c:\\programdata\\anaconda3\\lib\\site-packages (from requests>=2.3.0->facebookads)\n",
      "Requirement already satisfied: certifi>=2017.4.17 in c:\\programdata\\anaconda3\\lib\\site-packages (from requests>=2.3.0->facebookads)\n"
     ]
    },
    {
     "name": "stderr",
     "output_type": "stream",
     "text": [
      "You are using pip version 9.0.1, however version 10.0.1 is available.\n",
      "You should consider upgrading via the 'python -m pip install --upgrade pip' command.\n"
     ]
    }
   ],
   "source": [
    "!pip install facebookads"
   ]
  },
  {
   "cell_type": "code",
   "execution_count": 2,
   "metadata": {},
   "outputs": [],
   "source": [
    "# This program downloads all relevent Facebook traffic info as a csv file\n",
    "# This program requires info from the Facebook Ads API: https://github.com/facebook/facebook-python-ads-sdk\n",
    "\n",
    "# Import all the facebook mumbo jumbo\n",
    "#from facebookads import Adobjects\n",
    "#from facebookads.api import FacebookAdsApi\n",
    "#from facebookads.adobjects.adsinsights import AdsInsights\n",
    "#from facebookads.adobjects.adaccount import AdAccount\n",
    "\n",
    "from facebookads import FacebookAdsApi\n",
    "from facebookads.adobjects.campaign import Campaign\n",
    "from facebookads.adobjects.targetingsearch import TargetingSearch\n",
    "from facebookads.adobjects.targeting import Targeting\n",
    "from facebookads.adobjects.adaccount import AdAccount\n",
    "from facebookads.adobjects.adset import AdSet\n",
    "from facebookads.adobjects.adimage import AdImage\n",
    "from facebookads.adobjects.adcreative import AdCreative\n",
    "from facebookads.adobjects.adcreativelinkdata import AdCreativeLinkData\n",
    "from facebookads.adobjects.adcreativeobjectstoryspec \\\n",
    "    import AdCreativeObjectStorySpec\n",
    "from facebookads.adobjects.ad import Ad\n",
    "\n",
    "# Set the info to get connected to the API. Do NOT share this info\n",
    "my_app_id = '1792229704364278'\n",
    "my_app_secret = '2ed5ed7625963f6e826e275fd359338f'\n",
    "my_access_token = 'EAAZAeBf7icPYBAGWMLrJAmlIe38rF5Gr3rI7tvjUtR1ItHRPbSjbwiulGjRMFm2sjhtJCSjKRMvKRBiaRiAl5rH7nc34ix9nELX9SBVW8DDyv4B1pdi98dAnCTs75q2W9tJl8bhiEnjJFLhjjF4LzoCUDufJymlktRsTuHQZDZD'\n",
    "ad_account_id = 'act_1816230678589227'\n",
    "\n",
    "#my_app_id = '154594298566571'\n",
    "#my_app_secret = '10795c8d01941bfa5c1588853cf0c356'\n",
    "#my_access_token = 'EAACMmkpAF6sBANkEzzq5xjfQKHwwL1x36oQp73y2mGwWq1MDtvb5Ujh6RNJMv8RscvFAL7dNLw5wYphQqVr3eFEZCZCIZBpW0MFn1b3DTa0quH94PzId6UZCuZBQP6yHGdWr8wCjYM5gHzQ06LuDH7iGfT64tFkGCd1xJaFGrZCQ2ri6nS0pB6WUgfr0ov4TuFGXo92zo7OwZDZD'\n",
    "#ad_account_id = 'act_308243465'"
   ]
  },
  {
   "cell_type": "code",
   "execution_count": 3,
   "metadata": {
    "collapsed": true
   },
   "outputs": [],
   "source": [
    "# Start the connection to the facebook API\n",
    "FacebookAdsApi.init(my_app_id, my_app_secret, my_access_token)\n",
    "#FacebookAdsApi.init(access_token=my_access_token)\n",
    "account = AdAccount(ad_account_id)"
   ]
  },
  {
   "cell_type": "code",
   "execution_count": 4,
   "metadata": {
    "collapsed": true
   },
   "outputs": [],
   "source": [
    "campaigns = account.get_campaigns()"
   ]
  },
  {
   "cell_type": "code",
   "execution_count": 5,
   "metadata": {},
   "outputs": [
    {
     "name": "stdout",
     "output_type": "stream",
     "text": [
      "['6087099652398', '6086946826398', '6085740000398', '6085418970998', '6084778071598', '6084754435198', '6084649048598', '6084604599398', '6084358928198', '6083843818598', '6083708759198', '6083587822798', '6083126725598', '6081963273398', '6081838534798', '6081622270198', '6081619245598', '6081486867798', '6081395474198', '6081393215198', '6081216631398', '6080501830398', '6080334746398', '6080247695398', '6080243700198', '6080179880398', '6079879511398', '6079856849198', '6079806591998', '6077229762998', '6077228766198', '6076851762598', '6076848236798', '6076644376198', '6076080362198', '6076058021798', '6075618626998', '6075617681598', '6075265056598', '6074450359798', '6071600736198', '6070032076998', '6069612550998', '6069542804398', '6069496674998', '6069496321398', '6069446632798', '6069444822398', '6069444744398', '6069444627998', '6069441649598', '6069431555398', '6069416530798', '6069384972798', '6069384853598', '6069384397598', '6069384307798', '6069384238398', '6069383346398', '6069377768198', '6069304792598', '6069207328798', '6069201250598', '6069086716198', '6069030333798', '6069026201198', '6068963869198', '6068962221598', '6068901679198', '6068888514598', '6068877421598', '6068811306598', '6068239511398', '6067973363998', '6067575389398', '6067574700798', '6067574629998', '6067493905598', '6067140286198', '6067105163998', '6067077486198', '6066868205198', '6066856440998', '6066626730798', '6066623709998', '6066609253998', '6066397463398', '6066385365198', '6066011010398', '6065724203998', '6065469888798', '6065469697798', '6065299860798', '6065083510198', '6064884845398', '6064857772398', '6064578656398', '6064484194398', '6064224245398', '6064224100198', '6064168602198', '6063925758198', '6063837766998', '6063837706998', '6063703844798', '6063632740798', '6063610346198', '6063610329198', '6063610234998', '6063466975998', '6063426300198', '6063426041798', '6063355397998', '6063355302198', '6063304610998', '6063295190598', '6062187751998', '6061942007598', '6061729421398', '6061678761798', '6061622914198', '6061622291998', '6061601075198', '6061600673998', '6061157303798', '6061102487398', '6061102433398', '6061102303598', '6060982190798', '6060880136598', '6060416628398', '6060415930798', '6060345120198', '6060173359198', '6060134008598', '6059986543398', '6059986419798', '6059908607998', '6059746549598', '6059576183798', '6059557920398', '6059497390798', '6059273243198', '6059087727598', '6058841127998', '6058833128598', '6058815566198', '6058772438798', '6058725492198', '6057714355798', '6057707171998', '6057645750998', '6057162264998', '6056791030598', '6056674212798', '6056627800998', '6056479744998', '6056369561198', '6056200250998', '6055747074998', '6055690299598', '6055467794798', '6054941299398', '6054930385998', '6054652349198', '6054651776198', '6054552818598', '6054438500998', '6054162086798', '6054147623798', '6054095418998', '6053576950798', '6053433587598', '6053418982598', '6053253050798', '6053252312998', '6053067286798', '6053061112998', '6052444734198', '6052312948598', '6051833821198', '6051577041998', '6051159836998', '6051074881398', '6051047437998', '6050628629398', '6050443564798', '6050317846398', '6050267858798', '6050230289798', '6050002306598', '6049988462598', '6049985527998', '6049940760998', '6049873668398', '6049824506398', '6049599442998', '6049469944598', '6049304473598', '6049268539198', '6049204803198', '6049071970198', '6048961264798', '6048900498998', '6048883811598', '6048883658398', '6048880121998', '6048703603598', '6048525842998', '6048484661998', '6048357809398', '6048223608598', '6048187760798', '6048166202998', '6048161495198', '6047693049598', '6047289579198', '6047272110798', '6047156899598', '6047155931798', '6046998735398', '6046934146798', '6046818328598', '6046798068398', '6046473233598', '6046471923198', '6046359110198', '6046359038798', '6045992873598', '6045934078998', '6045933938798', '6045709584398']\n"
     ]
    }
   ],
   "source": [
    "camp_list = []\n",
    "\n",
    "for campaign in campaigns:\n",
    "    camp_list.append(campaign[campaign.Field.id])\n",
    "\n",
    "print(camp_list)"
   ]
  },
  {
   "cell_type": "code",
   "execution_count": null,
   "metadata": {
    "collapsed": true
   },
   "outputs": [],
   "source": [
    "fields = [\n",
    "    'account_id',\n",
    "    'account_name',\n",
    "    'campaign_name',\n",
    "    'campaign_id',\n",
    "    'spend',\n",
    "    'ad_name'\n",
    "]\n",
    "params = {\n",
    "    'level': 'ad',\n",
    "    'date_preset': 'lifetime'\n",
    "}"
   ]
  },
  {
   "cell_type": "code",
   "execution_count": null,
   "metadata": {
    "collapsed": true
   },
   "outputs": [],
   "source": [
    "account.get_insights(fields=fields,params=params,)"
   ]
  },
  {
   "cell_type": "code",
   "execution_count": null,
   "metadata": {
    "collapsed": true
   },
   "outputs": [],
   "source": [
    "print(campaigns)"
   ]
  },
  {
   "cell_type": "code",
   "execution_count": null,
   "metadata": {
    "collapsed": true
   },
   "outputs": [],
   "source": []
  }
 ],
 "metadata": {
  "kernelspec": {
   "display_name": "Python 3",
   "language": "python",
   "name": "python3"
  },
  "language_info": {
   "codemirror_mode": {
    "name": "ipython",
    "version": 3
   },
   "file_extension": ".py",
   "mimetype": "text/x-python",
   "name": "python",
   "nbconvert_exporter": "python",
   "pygments_lexer": "ipython3",
   "version": "3.6.3"
  }
 },
 "nbformat": 4,
 "nbformat_minor": 2
}
